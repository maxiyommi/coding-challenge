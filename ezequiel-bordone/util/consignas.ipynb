{
 "cells": [
  {
   "cell_type": "markdown",
   "metadata": {},
   "source": [
    "# Coding Challenge - Python (Junio-2024)\n",
    "\n",
    "<center><img src=\"https://raw.githubusercontent.com/maxiyommi/signal-systems/master/LogoPractica.png\" width=\"300\"/></center>\n",
    "\n",
    "## Consigna\n",
    "\n",
    "A continuación se presentan varios puntos que deben ser completados en distintos archivos .py, con el siguiente formato: <ejercicio_numero>.py (Ej: ejercicio_1.py). Todos los ejercicios deben ser llamados desde un main.py de manera secuencial. Se podrá reutilizar las funciones, la cantidad de veces necesarias.\n",
    "\n",
    "* Todas las funciones deben contar con su docstring (descripción, argumentos de entrada, argumentos de salida, entre otros).\n",
    "* Todos los gráficos deben tener correctamente etiquetados los ejes.\n",
    "* Todas las señales, archivos o elementos necesarios para reproducir la respuesta deben ser enviados.\n",
    "\n",
    "> Solicitamos utilizar en lo posible las librerías y métodos visto en clase.\n",
    "\n",
    "## Ejercicio_1\n",
    "Dada la siguiente función continua:\n",
    "\n",
    "![](ejercicio_1.png)\n",
    "<!---\n",
    "$$ f(x)=\\begin{cases} \n",
    "0, \\text{ para } x<=0 \\\\  \n",
    "x, \\text{  para } 0<x<=1 \\\\\n",
    "2-(x), \\text{ para } 1<x<2 \\\\ \n",
    "0, \\text{ para } x>=2 \\\\  \n",
    "\\end{cases}$$\n",
    "-->\n",
    "1. Expresar la función de manera simbólica.\n",
    "2. Graficar la expresión simbólica.\n",
    "3. Calcular (si existe) el valor numérico de la energía total y potencia promedio de la función. \n",
    "\n",
    "## Ejercicio_2\n",
    "Utilizando Numpy,\n",
    "1. Generar una secuencia aleatoria de 30 elementos, con amplitud entre 0 y 10.\n",
    "2. Encontrar los índices correspondientes a los valores máximos y mínimos de la secuencia\n",
    "3. Graficar la secuencia con los máximos y mínimos en un mismo gráfico, indicando con leyendas y etiquetas que representan.\n",
    "\n",
    "## Ejercicio_3\n",
    "Se requiere cargar un archivo de audio para extraer información que permitan caracterizar su contenido.\n",
    "1. Cargar el archivo de audio y leer su metadata.\n",
    "2. Obtener los valores máximos y mínimos.\n",
    "3. Obtener el valor promedio de la señal y representarlo mediante una línea horizontal en el gráfico.\n",
    "\n",
    "## Ejercicio_4\n",
    "Crear una función para aplicar la convolución entre dos señales de audio (Por ejemplo usando [numpy.convolve](https://numpy.org/doc/1.19/reference/generated/numpy.convolve.html) y [scipy.signal.fftconvolve](https://docs.scipy.org/doc/scipy/reference/generated/scipy.signal.fftconvolve.html#scipy.signal.fftconvolve)). La función debe ser capaz de elegir un método u otro en función de la cantidad de muestras de cada señal(> 500).\n",
    "\n",
    "Debe cumplir con: \n",
    "* Dos argumentos de entrada como mínimo: audioData_1 (valores de amplitud de la señal 1) y audioData_2 (valores de amplitud de la señal 2).\n",
    "* Un argumento de salida: audioData_convol (valores de amplitud de la señal resultante de la convolución)\n"
   ]
  }
 ],
 "metadata": {
  "language_info": {
   "name": "python"
  }
 },
 "nbformat": 4,
 "nbformat_minor": 2
}
